{
 "cells": [
  {
   "cell_type": "markdown",
   "metadata": {},
   "source": [
    "## Introducción"
   ]
  },
  {
   "cell_type": "markdown",
   "metadata": {},
   "source": [
    "En este proyecto analizaré la base de datos de una tienda online de venta de videojuegos, con actividades en varios países. \n",
    "Mi objetivo principal es identificar patrones que determinen cuales son los juegos más exitosos y cuales no, lo cual permitirá plantear nuevos proyectos y diseñar campañas publicitarias eficaces para el próximo año. \n",
    "\n",
    "Con mi objetivo en mente, realizaré un análisis exploratorio de datos y prepararé el conjunto para trabajar con el; plantearé algunas hipótesis enfocadas en los números arrojados por las ventas en los diferentes países y las críticas de los usuarios y la junta de entretenimiento; mediante la prueba de esas hipótesis determinaré cuales videojuegos y las plataformas son más exitosas. "
   ]
  },
  {
   "cell_type": "markdown",
   "metadata": {},
   "source": [
    "## 1. Inicialización"
   ]
  },
  {
   "cell_type": "code",
   "execution_count": 1,
   "metadata": {},
   "outputs": [],
   "source": [
    "#importar librerías\n",
    "import pandas as pd\n",
    "import numpy as np\n",
    "from scipy import stats as st\n",
    "import math as mt\n",
    "from math import factorial\n",
    "from matplotlib import pyplot as plt\n",
    "import seaborn as sns\n",
    "import plotly.express as px"
   ]
  },
  {
   "cell_type": "markdown",
   "metadata": {},
   "source": [
    "## Cargar datos"
   ]
  },
  {
   "cell_type": "code",
   "execution_count": 2,
   "metadata": {},
   "outputs": [],
   "source": [
    "#leer el conjunto de datos en un dataframe\n",
    "games = pd.read_csv(\"dataset/games.csv\")"
   ]
  },
  {
   "cell_type": "markdown",
   "metadata": {},
   "source": [
    "## 2. Preparar los datos"
   ]
  },
  {
   "cell_type": "code",
   "execution_count": 3,
   "metadata": {},
   "outputs": [
    {
     "name": "stdout",
     "output_type": "stream",
     "text": [
      "<class 'pandas.core.frame.DataFrame'>\n",
      "RangeIndex: 16715 entries, 0 to 16714\n",
      "Data columns (total 11 columns):\n",
      " #   Column           Non-Null Count  Dtype  \n",
      "---  ------           --------------  -----  \n",
      " 0   Name             16713 non-null  object \n",
      " 1   Platform         16715 non-null  object \n",
      " 2   Year_of_Release  16446 non-null  float64\n",
      " 3   Genre            16713 non-null  object \n",
      " 4   NA_sales         16715 non-null  float64\n",
      " 5   EU_sales         16715 non-null  float64\n",
      " 6   JP_sales         16715 non-null  float64\n",
      " 7   Other_sales      16715 non-null  float64\n",
      " 8   Critic_Score     8137 non-null   float64\n",
      " 9   User_Score       10014 non-null  object \n",
      " 10  Rating           9949 non-null   object \n",
      "dtypes: float64(6), object(5)\n",
      "memory usage: 1.4+ MB\n"
     ]
    }
   ],
   "source": [
    "#imprimir información general del dataframe\n",
    "games.info()"
   ]
  },
  {
   "cell_type": "code",
   "execution_count": 4,
   "metadata": {},
   "outputs": [
    {
     "data": {
      "text/html": [
       "<div>\n",
       "<style scoped>\n",
       "    .dataframe tbody tr th:only-of-type {\n",
       "        vertical-align: middle;\n",
       "    }\n",
       "\n",
       "    .dataframe tbody tr th {\n",
       "        vertical-align: top;\n",
       "    }\n",
       "\n",
       "    .dataframe thead th {\n",
       "        text-align: right;\n",
       "    }\n",
       "</style>\n",
       "<table border=\"1\" class=\"dataframe\">\n",
       "  <thead>\n",
       "    <tr style=\"text-align: right;\">\n",
       "      <th></th>\n",
       "      <th>Name</th>\n",
       "      <th>Platform</th>\n",
       "      <th>Year_of_Release</th>\n",
       "      <th>Genre</th>\n",
       "      <th>NA_sales</th>\n",
       "      <th>EU_sales</th>\n",
       "      <th>JP_sales</th>\n",
       "      <th>Other_sales</th>\n",
       "      <th>Critic_Score</th>\n",
       "      <th>User_Score</th>\n",
       "      <th>Rating</th>\n",
       "    </tr>\n",
       "  </thead>\n",
       "  <tbody>\n",
       "    <tr>\n",
       "      <th>0</th>\n",
       "      <td>Wii Sports</td>\n",
       "      <td>Wii</td>\n",
       "      <td>2006.0</td>\n",
       "      <td>Sports</td>\n",
       "      <td>41.36</td>\n",
       "      <td>28.96</td>\n",
       "      <td>3.77</td>\n",
       "      <td>8.45</td>\n",
       "      <td>76.0</td>\n",
       "      <td>8</td>\n",
       "      <td>E</td>\n",
       "    </tr>\n",
       "    <tr>\n",
       "      <th>1</th>\n",
       "      <td>Super Mario Bros.</td>\n",
       "      <td>NES</td>\n",
       "      <td>1985.0</td>\n",
       "      <td>Platform</td>\n",
       "      <td>29.08</td>\n",
       "      <td>3.58</td>\n",
       "      <td>6.81</td>\n",
       "      <td>0.77</td>\n",
       "      <td>NaN</td>\n",
       "      <td>NaN</td>\n",
       "      <td>NaN</td>\n",
       "    </tr>\n",
       "    <tr>\n",
       "      <th>2</th>\n",
       "      <td>Mario Kart Wii</td>\n",
       "      <td>Wii</td>\n",
       "      <td>2008.0</td>\n",
       "      <td>Racing</td>\n",
       "      <td>15.68</td>\n",
       "      <td>12.76</td>\n",
       "      <td>3.79</td>\n",
       "      <td>3.29</td>\n",
       "      <td>82.0</td>\n",
       "      <td>8.3</td>\n",
       "      <td>E</td>\n",
       "    </tr>\n",
       "    <tr>\n",
       "      <th>3</th>\n",
       "      <td>Wii Sports Resort</td>\n",
       "      <td>Wii</td>\n",
       "      <td>2009.0</td>\n",
       "      <td>Sports</td>\n",
       "      <td>15.61</td>\n",
       "      <td>10.93</td>\n",
       "      <td>3.28</td>\n",
       "      <td>2.95</td>\n",
       "      <td>80.0</td>\n",
       "      <td>8</td>\n",
       "      <td>E</td>\n",
       "    </tr>\n",
       "    <tr>\n",
       "      <th>4</th>\n",
       "      <td>Pokemon Red/Pokemon Blue</td>\n",
       "      <td>GB</td>\n",
       "      <td>1996.0</td>\n",
       "      <td>Role-Playing</td>\n",
       "      <td>11.27</td>\n",
       "      <td>8.89</td>\n",
       "      <td>10.22</td>\n",
       "      <td>1.00</td>\n",
       "      <td>NaN</td>\n",
       "      <td>NaN</td>\n",
       "      <td>NaN</td>\n",
       "    </tr>\n",
       "  </tbody>\n",
       "</table>\n",
       "</div>"
      ],
      "text/plain": [
       "                       Name Platform  Year_of_Release         Genre  NA_sales  \\\n",
       "0                Wii Sports      Wii           2006.0        Sports     41.36   \n",
       "1         Super Mario Bros.      NES           1985.0      Platform     29.08   \n",
       "2            Mario Kart Wii      Wii           2008.0        Racing     15.68   \n",
       "3         Wii Sports Resort      Wii           2009.0        Sports     15.61   \n",
       "4  Pokemon Red/Pokemon Blue       GB           1996.0  Role-Playing     11.27   \n",
       "\n",
       "   EU_sales  JP_sales  Other_sales  Critic_Score User_Score Rating  \n",
       "0     28.96      3.77         8.45          76.0          8      E  \n",
       "1      3.58      6.81         0.77           NaN        NaN    NaN  \n",
       "2     12.76      3.79         3.29          82.0        8.3      E  \n",
       "3     10.93      3.28         2.95          80.0          8      E  \n",
       "4      8.89     10.22         1.00           NaN        NaN    NaN  "
      ]
     },
     "execution_count": 4,
     "metadata": {},
     "output_type": "execute_result"
    }
   ],
   "source": [
    "#imprimir muestra de datos en el dataframe\n",
    "games.head()"
   ]
  },
  {
   "cell_type": "markdown",
   "metadata": {},
   "source": [
    "## Corregir los datos"
   ]
  },
  {
   "cell_type": "code",
   "execution_count": 5,
   "metadata": {},
   "outputs": [],
   "source": [
    "#reemplazar nombres de columnas a minúsculas\n",
    "new_col_names = []\n",
    "\n",
    "for old_name in games.columns:\n",
    "    name_lowered = old_name.lower()\n",
    "    new_col_names.append(name_lowered)\n",
    "    \n",
    "games.columns = new_col_names\n"
   ]
  },
  {
   "cell_type": "code",
   "execution_count": 6,
   "metadata": {},
   "outputs": [],
   "source": [
    "# reemplazar tipos de datos en dos columnas\n",
    "games['year_of_release'] = games['year_of_release'].astype('Int64')\n",
    "\n",
    "games['user_score'] = pd.to_numeric(games['user_score'], errors='coerce')"
   ]
  },
  {
   "cell_type": "markdown",
   "metadata": {},
   "source": [
    "Cambié el tipo de datos en la columna 'year_of_release' a números enteros; y en la columna 'user_score' cambié los datos de 'string' a 'float' para poder resalizar cálculos con esta última columna más adelante."
   ]
  },
  {
   "cell_type": "markdown",
   "metadata": {},
   "source": [
    "### Valores ausentes"
   ]
  },
  {
   "cell_type": "code",
   "execution_count": 7,
   "metadata": {},
   "outputs": [
    {
     "data": {
      "text/plain": [
       "name                  2\n",
       "platform              0\n",
       "year_of_release     269\n",
       "genre                 2\n",
       "na_sales              0\n",
       "eu_sales              0\n",
       "jp_sales              0\n",
       "other_sales           0\n",
       "critic_score       8578\n",
       "user_score         9125\n",
       "rating             6766\n",
       "dtype: int64"
      ]
     },
     "execution_count": 7,
     "metadata": {},
     "output_type": "execute_result"
    }
   ],
   "source": [
    "#verificar los valores ausentes\n",
    "games.isna().sum()"
   ]
  },
  {
   "cell_type": "code",
   "execution_count": 8,
   "metadata": {},
   "outputs": [],
   "source": [
    "#rellenar valores ausentes en \"name\"\n",
    "games['name'] = games['name'].fillna('unknown')"
   ]
  },
  {
   "cell_type": "code",
   "execution_count": 9,
   "metadata": {},
   "outputs": [],
   "source": [
    "#rellenar valores ausentes en \"year_of_release\"\n",
    "games['year_of_release'] = games['year_of_release'].fillna(0)"
   ]
  },
  {
   "cell_type": "code",
   "execution_count": 10,
   "metadata": {},
   "outputs": [],
   "source": [
    "#rellenar valores ausentes en \"genre\"\n",
    "games['genre'] = games['genre'].fillna('unknown')"
   ]
  },
  {
   "cell_type": "code",
   "execution_count": 11,
   "metadata": {},
   "outputs": [],
   "source": [
    "#rellenar valores ausentes en \"rating\"\n",
    "games['rating'] = games['rating'].fillna('unknown')\n"
   ]
  },
  {
   "cell_type": "code",
   "execution_count": 12,
   "metadata": {},
   "outputs": [
    {
     "data": {
      "text/plain": [
       "name                  0\n",
       "platform              0\n",
       "year_of_release       0\n",
       "genre                 0\n",
       "na_sales              0\n",
       "eu_sales              0\n",
       "jp_sales              0\n",
       "other_sales           0\n",
       "critic_score       8578\n",
       "user_score         9125\n",
       "rating                0\n",
       "dtype: int64"
      ]
     },
     "execution_count": 12,
     "metadata": {},
     "output_type": "execute_result"
    }
   ],
   "source": [
    "#verificar nuevamente valores ausentes\n",
    "games.isna().sum()"
   ]
  },
  {
   "cell_type": "markdown",
   "metadata": {},
   "source": [
    "#### Manejo de valores ausentes\n",
    "\n",
    "Tanto para la columna \"name\", \"genre\" y \"rating\", rellené los valores ausentes con un string 'unknown'.\n",
    "\n",
    "En la columna \"year_of_release\" rellené los valores ausentes con 0; cero significando \"año desconocido\".\n",
    "\n",
    "Finalmente, para las columnas \"critic_score\" y \"user_score\", voy a mantener los valores ausentes como están. Algunas de las filas de estas columnas tenían la abreviación \"tbd\" (\"to be determined\"), lo que me hace pensar que al momento de extraer la base de datos, aun no se habían calificado. Por otra partes, como los videojuegos pertencen a géneros diferentes, no rellenaré los valores ausentes con la media, ya que está puede variar de un género a otro. "
   ]
  },
  {
   "cell_type": "markdown",
   "metadata": {},
   "source": [
    "#### Ventas totales"
   ]
  },
  {
   "cell_type": "code",
   "execution_count": 13,
   "metadata": {},
   "outputs": [],
   "source": [
    "#calcular las ventas totales en una nueva columna \n",
    "\n",
    "games['total_sales'] = games['na_sales'] + games['eu_sales'] + games['jp_sales'] + games['other_sales']\n"
   ]
  },
  {
   "cell_type": "markdown",
   "metadata": {},
   "source": [
    "## 3. Análisis de datos"
   ]
  },
  {
   "cell_type": "code",
   "execution_count": 14,
   "metadata": {},
   "outputs": [
    {
     "data": {
      "text/html": [
       "<div>\n",
       "<style scoped>\n",
       "    .dataframe tbody tr th:only-of-type {\n",
       "        vertical-align: middle;\n",
       "    }\n",
       "\n",
       "    .dataframe tbody tr th {\n",
       "        vertical-align: top;\n",
       "    }\n",
       "\n",
       "    .dataframe thead th {\n",
       "        text-align: right;\n",
       "    }\n",
       "</style>\n",
       "<table border=\"1\" class=\"dataframe\">\n",
       "  <thead>\n",
       "    <tr style=\"text-align: right;\">\n",
       "      <th></th>\n",
       "      <th>year_of_release</th>\n",
       "      <th>name</th>\n",
       "    </tr>\n",
       "  </thead>\n",
       "  <tbody>\n",
       "    <tr>\n",
       "      <th>29</th>\n",
       "      <td>2008</td>\n",
       "      <td>1427</td>\n",
       "    </tr>\n",
       "    <tr>\n",
       "      <th>30</th>\n",
       "      <td>2009</td>\n",
       "      <td>1426</td>\n",
       "    </tr>\n",
       "    <tr>\n",
       "      <th>31</th>\n",
       "      <td>2010</td>\n",
       "      <td>1255</td>\n",
       "    </tr>\n",
       "    <tr>\n",
       "      <th>28</th>\n",
       "      <td>2007</td>\n",
       "      <td>1197</td>\n",
       "    </tr>\n",
       "    <tr>\n",
       "      <th>32</th>\n",
       "      <td>2011</td>\n",
       "      <td>1136</td>\n",
       "    </tr>\n",
       "  </tbody>\n",
       "</table>\n",
       "</div>"
      ],
      "text/plain": [
       "    year_of_release  name\n",
       "29             2008  1427\n",
       "30             2009  1426\n",
       "31             2010  1255\n",
       "28             2007  1197\n",
       "32             2011  1136"
      ]
     },
     "execution_count": 14,
     "metadata": {},
     "output_type": "execute_result"
    }
   ],
   "source": [
    "#calcular cuantos juegos fueron lanzados cada año \n",
    "games_per_year = games.groupby(['year_of_release'])['name'].count().reset_index().sort_values(by='name', ascending=False)\n",
    "\n",
    "games_per_year.head()\n",
    "                     "
   ]
  },
  {
   "cell_type": "markdown",
   "metadata": {},
   "source": [
    "Algunos años tienen cifras siginificativas de videojuegos lanzados en esos períodos, por plataforma. Estos años van de 2005 a 2011. Otros años no tiene cifras tan significativas."
   ]
  },
  {
   "cell_type": "code",
   "execution_count": 15,
   "metadata": {},
   "outputs": [
    {
     "data": {
      "text/html": [
       "<div>\n",
       "<style scoped>\n",
       "    .dataframe tbody tr th:only-of-type {\n",
       "        vertical-align: middle;\n",
       "    }\n",
       "\n",
       "    .dataframe tbody tr th {\n",
       "        vertical-align: top;\n",
       "    }\n",
       "\n",
       "    .dataframe thead th {\n",
       "        text-align: right;\n",
       "    }\n",
       "</style>\n",
       "<table border=\"1\" class=\"dataframe\">\n",
       "  <thead>\n",
       "    <tr style=\"text-align: right;\">\n",
       "      <th></th>\n",
       "      <th>platform</th>\n",
       "      <th>year_of_release</th>\n",
       "      <th>total_sales</th>\n",
       "    </tr>\n",
       "  </thead>\n",
       "  <tbody>\n",
       "    <tr>\n",
       "      <th>144</th>\n",
       "      <td>PS2</td>\n",
       "      <td>2004</td>\n",
       "      <td>211.81</td>\n",
       "    </tr>\n",
       "    <tr>\n",
       "      <th>214</th>\n",
       "      <td>Wii</td>\n",
       "      <td>2009</td>\n",
       "      <td>206.97</td>\n",
       "    </tr>\n",
       "    <tr>\n",
       "      <th>142</th>\n",
       "      <td>PS2</td>\n",
       "      <td>2002</td>\n",
       "      <td>205.38</td>\n",
       "    </tr>\n",
       "    <tr>\n",
       "      <th>143</th>\n",
       "      <td>PS2</td>\n",
       "      <td>2003</td>\n",
       "      <td>184.31</td>\n",
       "    </tr>\n",
       "    <tr>\n",
       "      <th>213</th>\n",
       "      <td>Wii</td>\n",
       "      <td>2008</td>\n",
       "      <td>171.32</td>\n",
       "    </tr>\n",
       "  </tbody>\n",
       "</table>\n",
       "</div>"
      ],
      "text/plain": [
       "    platform  year_of_release  total_sales\n",
       "144      PS2             2004       211.81\n",
       "214      Wii             2009       206.97\n",
       "142      PS2             2002       205.38\n",
       "143      PS2             2003       184.31\n",
       "213      Wii             2008       171.32"
      ]
     },
     "execution_count": 15,
     "metadata": {},
     "output_type": "execute_result"
    }
   ],
   "source": [
    "#calcular ventas por plataforma de juego y año\n",
    "sales_per_platform = games.groupby(['platform', 'year_of_release'])['total_sales'].sum().reset_index().sort_values(by='total_sales', ascending=False)\n",
    "\n",
    "sales_per_platform.head()"
   ]
  },
  {
   "cell_type": "code",
   "execution_count": 16,
   "metadata": {},
   "outputs": [
    {
     "data": {
      "image/png": "[encoded data removed]",
      "text/plain": [
       "<Figure size 1000x500 with 1 Axes>"
      ]
     },
     "metadata": {},
     "output_type": "display_data"
    }
   ],
   "source": [
    "#elegir las plataformas con mayores ventas (ventas sobre 100 mill)\n",
    "most_sellling_platforms = sales_per_platform[(sales_per_platform['total_sales'] > 100)] \n",
    "\n",
    "\n",
    "#crear una tabla dinámica con las plataformas con más ventas\n",
    "platform_sales_pivot = most_sellling_platforms.pivot_table(index='year_of_release',\n",
    "                                                           columns='platform' ,\n",
    "                                                           values='total_sales',\n",
    "                                                           aggfunc='sum'\n",
    "                                                           )\n",
    "                                                           \n",
    "#crear una distribucion de los datos por cada año                                                       \n",
    "platform_sales_pivot.plot(kind='bar',\n",
    "                          xlabel='Año de lanzamiento',\n",
    "                          ylabel='Ventas totales (millones USD)',\n",
    "                          title= 'Plataformas de videojuegos con mayores ventas',\n",
    "                          figsize=[10,5]\n",
    "                          )\n",
    "\n",
    "plt.show()"
   ]
  },
  {
   "cell_type": "markdown",
   "metadata": {},
   "source": [
    "##### ¿Qué plataformas solían ser populares pero ahora ya no tienen ventas?\n",
    "\n",
    "En primer lugar tenemos a la plataforma PS, que tuvo las mayores ventas hasta el año 99 y actualmente no tiene ventas. De alli le siguen las plataformas PS2, DS, Wii, X360 y PS3, que fueron las más populares hasta hace unos años y actualmente no se venden.\n",
    "\n",
    "##### ¿Cuánto tardan generalmente las nuevas plataformas en aparecer y las antiguas en desaparecer?\n",
    "\n",
    "En promedio, las plataformas antiguan tardan 4,8 años aproximadamente en desaparecer, mientras que las nuevas tardan entre 1 y 2 años en aparecer."
   ]
  },
  {
   "cell_type": "markdown",
   "metadata": {},
   "source": [
    "En mi análisis determino que tomaré datos para los períodos correspondientes a los años de 2001 a 2015. \n",
    "\n",
    "Esto se debe a que al calcular el número de juegos lanzados cada año, noté que la mayor cantidad de videojuegos fué lanzada entre 2002 y 2011; por otra parte, las mayores ventas por plataforma se registraron enttre 1997 y 2015. De esta manera, tomaré mis datos en un período que cubra ambos resultados, siendo 2002 a 2016 mi elección.\n"
   ]
  },
  {
   "cell_type": "markdown",
   "metadata": {},
   "source": [
    "#### ¿Qué plataformas son líderes en ventas? ¿Cuáles crecen y cuáles se reducen?"
   ]
  },
  {
   "cell_type": "markdown",
   "metadata": {},
   "source": [
    "De acuerdo con los análisis anteriores puedo decir que una de las plataformas que ha sido líder de ventas por muchos años es PS y está en constante crecimiento. De igual manera pienso que Wii y Xbox se mantienen constantes con buenas ventas en distintos periodos y también están creciendo.\n",
    "\n",
    "Por otro parte, algunas plataformas parecen reducirse. Entre ellas se encuentran DS y PC."
   ]
  },
  {
   "cell_type": "code",
   "execution_count": 17,
   "metadata": {},
   "outputs": [
    {
     "data": {
      "text/plain": [
       "<Axes: >"
      ]
     },
     "execution_count": 17,
     "metadata": {},
     "output_type": "execute_result"
    },
    {
     "data": {
      "image/png": "[encoded data removed]",
      "text/plain": [
       "<Figure size 640x480 with 1 Axes>"
      ]
     },
     "metadata": {},
     "output_type": "display_data"
    }
   ],
   "source": [
    "#crear diagrama de caja para ventas globales de todos los juegos por plataforma \n",
    "\n",
    "global_sales_platforms = games.groupby(['platform'])['total_sales'].sum().reset_index()\n",
    "\n",
    "\n",
    "sns.boxplot(data = global_sales_platforms)\n"
   ]
  },
  {
   "cell_type": "markdown",
   "metadata": {},
   "source": [
    "##### ¿Son significativas las diferencias en las ventas? ¿Qué sucede con las ventas promedio en varias plataformas?\n",
    "\n",
    "\n",
    "Las ventas globales en promedio en varias plataformas rondan los 200 millones de dólares, sin embargo, en el diagrama se ven algunas diferencias significativas para otras plataformas, que se alejan bastante del promedio, superándolo con ventas que van desde los 600 hasta mas de 1.200.000 millones USD."
   ]
  },
  {
   "cell_type": "code",
   "execution_count": 18,
   "metadata": {},
   "outputs": [
    {
     "data": {
      "image/png": "[encoded data removed]",
      "text/plain": [
       "<Figure size 640x480 with 1 Axes>"
      ]
     },
     "metadata": {},
     "output_type": "display_data"
    }
   ],
   "source": [
    "#crear gráfico de dispersión de correlacion entre las reseñas de los usuarios y las ventas totales\n",
    "\n",
    "games.plot(x='user_score',\n",
    "           y='total_sales',\n",
    "           kind='scatter',\n",
    "           alpha=0.8,\n",
    "           title='Correlación entre reseñas de usuarios y ventas',\n",
    "           xlabel='Reseñas de usuarios',\n",
    "           ylabel='Ventas totales',\n",
    "           )\n",
    "\n",
    "plt.show()"
   ]
  },
  {
   "cell_type": "code",
   "execution_count": 19,
   "metadata": {},
   "outputs": [
    {
     "name": "stdout",
     "output_type": "stream",
     "text": [
      "El coeficiente de correlación es: 0.08817911987579136\n"
     ]
    }
   ],
   "source": [
    "#calcular el coeficiente de correlacion entre las ventas totales y las críticas de los usuarios\n",
    "users_corr = games['user_score'].corr(games['total_sales'])\n",
    "\n",
    "print(f'El coeficiente de correlación es:', users_corr)"
   ]
  },
  {
   "cell_type": "markdown",
   "metadata": {},
   "source": [
    "De acuerdo con el resultado obtenido en el análisis previo, parece que las críticas de los usuarios no se correlacionan con las ventas de los videojuegos. El resultado es muy bajo como para pensar que una variable influye directamente en la otra."
   ]
  },
  {
   "cell_type": "code",
   "execution_count": 20,
   "metadata": {},
   "outputs": [
    {
     "data": {
      "image/png": "[encoded data removed]",
      "text/plain": [
       "<Figure size 640x480 with 1 Axes>"
      ]
     },
     "metadata": {},
     "output_type": "display_data"
    }
   ],
   "source": [
    "#crear gráfico de dispersión de correlacion entre las reseñas de los profesionales y las ventas totales\n",
    "\n",
    "games.plot(x='critic_score', \n",
    "           y='total_sales',\n",
    "           kind='scatter',\n",
    "           alpha=0.8,\n",
    "           title='Correlación entre reseñas de profesionales y ventas',\n",
    "           xlabel='Reseñas de profesionales',\n",
    "           ylabel='Ventas totales'\n",
    "           )\n",
    "\n",
    "plt.show()"
   ]
  },
  {
   "cell_type": "code",
   "execution_count": 21,
   "metadata": {},
   "outputs": [
    {
     "name": "stdout",
     "output_type": "stream",
     "text": [
      "El coeficiente de correlación es: 0.24550668717736324\n"
     ]
    }
   ],
   "source": [
    "#calcular el coeficiente de correlacion entre las ventas totales y las críticas de los profesionales\n",
    "critic_corr = games['critic_score'].corr(games['total_sales'])\n",
    "\n",
    "print(f'El coeficiente de correlación es:', critic_corr)"
   ]
  },
  {
   "cell_type": "markdown",
   "metadata": {},
   "source": [
    "En el caso de las críticas de los profesionales, exite un poco más de correlación con las ventas de los videojuegos. Sin embargo, otra vez el resultado es muy bajo como para pensar que una variable influye directamente en la otra."
   ]
  },
  {
   "cell_type": "code",
   "execution_count": 22,
   "metadata": {},
   "outputs": [
    {
     "data": {
      "image/png": "[encoded data removed]",
      "text/plain": [
       "<Figure size 800x500 with 1 Axes>"
      ]
     },
     "metadata": {},
     "output_type": "display_data"
    }
   ],
   "source": [
    "#crear una distribucion para comparar los juegos en distintas plataformas\n",
    "platform_vs_platform = games[(games['name']== 'Call of Duty: Black Ops')][['name', 'platform', 'total_sales', 'year_of_release']]\n",
    "\n",
    "colors = ['green', 'blue', 'yellow', 'brown', 'pink']        \n",
    "platform_vs_platform.plot(kind='bar',\n",
    "                          x='platform',\n",
    "                          y='total_sales',\n",
    "                          xlabel='Plataforma',\n",
    "                          ylabel='Ventas totales (millones USD)',\n",
    "                          title='Call of Duty: Black Ops en distintas plataformas',\n",
    "                          color=colors,\n",
    "                          rot=60,\n",
    "                          legend=False,\n",
    "                          figsize= [8, 5]\n",
    "                          )\n",
    "\n",
    "plt.show()"
   ]
  },
  {
   "cell_type": "markdown",
   "metadata": {},
   "source": [
    "Tomé el juego Call of Duty: Black Ops para realizar una comparación de ventas en distintas plataformas. El resultado es significativo. Todas las plataformas lanzaron el juego en el mismo año, 2010, sin embargo las ventas de X360 constrastan enormemente con las de DS. Podríamos concluir que las ventas mejoran o empeoran dependiendo de la plataforma ."
   ]
  },
  {
   "cell_type": "code",
   "execution_count": 23,
   "metadata": {},
   "outputs": [
    {
     "data": {
      "image/png": "[encoded data removed]",
      "text/plain": [
       "<Figure size 640x480 with 1 Axes>"
      ]
     },
     "metadata": {},
     "output_type": "display_data"
    }
   ],
   "source": [
    "#crear una distribución de acuerdo con los géneros de los juegos y las ventas\n",
    "genre_grp = games.groupby('genre')['total_sales'].sum().sort_values()\n",
    "\n",
    "genre_grp.plot(kind='bar',\n",
    "               xlabel='Géneros',\n",
    "               ylabel='Ventas totales (millones USD)',\n",
    "               title='Ventas según género de juego',\n",
    "               rot=70,\n",
    "               color='green'\n",
    "               )\n",
    "\n",
    "plt.show()"
   ]
  },
  {
   "cell_type": "markdown",
   "metadata": {},
   "source": [
    "Luego de observar el gráfico, puedo generalizar un poco y decir que el género más rentable es el de acción, seguido por juegos de deportes. Por otro lado, juegos de estrategia, aventura y rompecabezas serían los menos rentables de todos. \n",
    "\n",
    "\n",
    "Finalmente, intuyo que mientras que las ventas de los videojuegos no están correlacionadas con las críticas de usuarios y profesionales, si tienen una fuerte relación con el género al que pertenecen. "
   ]
  },
  {
   "cell_type": "markdown",
   "metadata": {},
   "source": [
    "## 4. Perfil de usuario para cada región"
   ]
  },
  {
   "cell_type": "code",
   "execution_count": 24,
   "metadata": {},
   "outputs": [
    {
     "data": {
      "text/html": [
       "<div>\n",
       "<style scoped>\n",
       "    .dataframe tbody tr th:only-of-type {\n",
       "        vertical-align: middle;\n",
       "    }\n",
       "\n",
       "    .dataframe tbody tr th {\n",
       "        vertical-align: top;\n",
       "    }\n",
       "\n",
       "    .dataframe thead th {\n",
       "        text-align: right;\n",
       "    }\n",
       "</style>\n",
       "<table border=\"1\" class=\"dataframe\">\n",
       "  <thead>\n",
       "    <tr style=\"text-align: right;\">\n",
       "      <th></th>\n",
       "      <th>index</th>\n",
       "      <th>name</th>\n",
       "      <th>platform</th>\n",
       "      <th>year_of_release</th>\n",
       "      <th>genre</th>\n",
       "      <th>jp_sales</th>\n",
       "      <th>critic_score</th>\n",
       "      <th>user_score</th>\n",
       "      <th>rating</th>\n",
       "      <th>total_sales</th>\n",
       "    </tr>\n",
       "  </thead>\n",
       "  <tbody>\n",
       "    <tr>\n",
       "      <th>0</th>\n",
       "      <td>6</td>\n",
       "      <td>New Super Mario Bros.</td>\n",
       "      <td>DS</td>\n",
       "      <td>2006</td>\n",
       "      <td>Platform</td>\n",
       "      <td>6.50</td>\n",
       "      <td>89.0</td>\n",
       "      <td>8.5</td>\n",
       "      <td>E</td>\n",
       "      <td>29.80</td>\n",
       "    </tr>\n",
       "    <tr>\n",
       "      <th>1</th>\n",
       "      <td>20</td>\n",
       "      <td>Pokemon Diamond/Pokemon Pearl</td>\n",
       "      <td>DS</td>\n",
       "      <td>2006</td>\n",
       "      <td>Role-Playing</td>\n",
       "      <td>6.04</td>\n",
       "      <td>NaN</td>\n",
       "      <td>NaN</td>\n",
       "      <td>unknown</td>\n",
       "      <td>18.24</td>\n",
       "    </tr>\n",
       "    <tr>\n",
       "      <th>2</th>\n",
       "      <td>27</td>\n",
       "      <td>Pokemon Black/Pokemon White</td>\n",
       "      <td>DS</td>\n",
       "      <td>2010</td>\n",
       "      <td>Role-Playing</td>\n",
       "      <td>5.65</td>\n",
       "      <td>NaN</td>\n",
       "      <td>NaN</td>\n",
       "      <td>unknown</td>\n",
       "      <td>15.13</td>\n",
       "    </tr>\n",
       "    <tr>\n",
       "      <th>3</th>\n",
       "      <td>25</td>\n",
       "      <td>Pokemon Ruby/Pokemon Sapphire</td>\n",
       "      <td>GBA</td>\n",
       "      <td>2002</td>\n",
       "      <td>Role-Playing</td>\n",
       "      <td>5.38</td>\n",
       "      <td>NaN</td>\n",
       "      <td>NaN</td>\n",
       "      <td>unknown</td>\n",
       "      <td>15.84</td>\n",
       "    </tr>\n",
       "    <tr>\n",
       "      <th>4</th>\n",
       "      <td>43</td>\n",
       "      <td>Animal Crossing: Wild World</td>\n",
       "      <td>DS</td>\n",
       "      <td>2005</td>\n",
       "      <td>Simulation</td>\n",
       "      <td>5.33</td>\n",
       "      <td>86.0</td>\n",
       "      <td>8.7</td>\n",
       "      <td>E</td>\n",
       "      <td>12.14</td>\n",
       "    </tr>\n",
       "  </tbody>\n",
       "</table>\n",
       "</div>"
      ],
      "text/plain": [
       "   index                           name platform  year_of_release  \\\n",
       "0      6          New Super Mario Bros.       DS             2006   \n",
       "1     20  Pokemon Diamond/Pokemon Pearl       DS             2006   \n",
       "2     27    Pokemon Black/Pokemon White       DS             2010   \n",
       "3     25  Pokemon Ruby/Pokemon Sapphire      GBA             2002   \n",
       "4     43    Animal Crossing: Wild World       DS             2005   \n",
       "\n",
       "          genre  jp_sales  critic_score  user_score   rating  total_sales  \n",
       "0      Platform      6.50          89.0         8.5        E        29.80  \n",
       "1  Role-Playing      6.04           NaN         NaN  unknown        18.24  \n",
       "2  Role-Playing      5.65           NaN         NaN  unknown        15.13  \n",
       "3  Role-Playing      5.38           NaN         NaN  unknown        15.84  \n",
       "4    Simulation      5.33          86.0         8.7        E        12.14  "
      ]
     },
     "execution_count": 24,
     "metadata": {},
     "output_type": "execute_result"
    }
   ],
   "source": [
    "#perfil de usuario para ventas en Japón\n",
    "\n",
    "#ordenar el dataframe por las ventas en Japón, en orden descendente\n",
    "jp_profile = games.sort_values('jp_sales', ascending=False)\n",
    "\n",
    "#seleccionando las mejores ventas entre el año 2002 y 2016\n",
    "jp_profile_games = jp_profile[(jp_profile['year_of_release'] >= 2002) & (jp_profile['year_of_release'] <=2016)]\n",
    "\n",
    "#estableciendo el top 5 de las plataformas que vendieron mas en Japón \n",
    "jp_top_games = jp_profile_games[['name', 'platform', 'year_of_release', 'genre', 'jp_sales', 'critic_score', 'user_score', 'rating', 'total_sales']].reset_index()\n",
    "\n",
    "jp_top_games.head()"
   ]
  },
  {
   "cell_type": "code",
   "execution_count": 25,
   "metadata": {},
   "outputs": [
    {
     "data": {
      "text/html": [
       "<div>\n",
       "<style scoped>\n",
       "    .dataframe tbody tr th:only-of-type {\n",
       "        vertical-align: middle;\n",
       "    }\n",
       "\n",
       "    .dataframe tbody tr th {\n",
       "        vertical-align: top;\n",
       "    }\n",
       "\n",
       "    .dataframe thead th {\n",
       "        text-align: right;\n",
       "    }\n",
       "</style>\n",
       "<table border=\"1\" class=\"dataframe\">\n",
       "  <thead>\n",
       "    <tr style=\"text-align: right;\">\n",
       "      <th></th>\n",
       "      <th>index</th>\n",
       "      <th>name</th>\n",
       "      <th>platform</th>\n",
       "      <th>year_of_release</th>\n",
       "      <th>genre</th>\n",
       "      <th>eu_sales</th>\n",
       "      <th>critic_score</th>\n",
       "      <th>user_score</th>\n",
       "      <th>rating</th>\n",
       "      <th>total_sales</th>\n",
       "    </tr>\n",
       "  </thead>\n",
       "  <tbody>\n",
       "    <tr>\n",
       "      <th>0</th>\n",
       "      <td>0</td>\n",
       "      <td>Wii Sports</td>\n",
       "      <td>Wii</td>\n",
       "      <td>2006</td>\n",
       "      <td>Sports</td>\n",
       "      <td>28.96</td>\n",
       "      <td>76.0</td>\n",
       "      <td>8.0</td>\n",
       "      <td>E</td>\n",
       "      <td>82.54</td>\n",
       "    </tr>\n",
       "    <tr>\n",
       "      <th>1</th>\n",
       "      <td>2</td>\n",
       "      <td>Mario Kart Wii</td>\n",
       "      <td>Wii</td>\n",
       "      <td>2008</td>\n",
       "      <td>Racing</td>\n",
       "      <td>12.76</td>\n",
       "      <td>82.0</td>\n",
       "      <td>8.3</td>\n",
       "      <td>E</td>\n",
       "      <td>35.52</td>\n",
       "    </tr>\n",
       "    <tr>\n",
       "      <th>2</th>\n",
       "      <td>10</td>\n",
       "      <td>Nintendogs</td>\n",
       "      <td>DS</td>\n",
       "      <td>2005</td>\n",
       "      <td>Simulation</td>\n",
       "      <td>10.95</td>\n",
       "      <td>NaN</td>\n",
       "      <td>NaN</td>\n",
       "      <td>unknown</td>\n",
       "      <td>24.67</td>\n",
       "    </tr>\n",
       "    <tr>\n",
       "      <th>3</th>\n",
       "      <td>3</td>\n",
       "      <td>Wii Sports Resort</td>\n",
       "      <td>Wii</td>\n",
       "      <td>2009</td>\n",
       "      <td>Sports</td>\n",
       "      <td>10.93</td>\n",
       "      <td>80.0</td>\n",
       "      <td>8.0</td>\n",
       "      <td>E</td>\n",
       "      <td>32.77</td>\n",
       "    </tr>\n",
       "    <tr>\n",
       "      <th>4</th>\n",
       "      <td>19</td>\n",
       "      <td>Brain Age: Train Your Brain in Minutes a Day</td>\n",
       "      <td>DS</td>\n",
       "      <td>2005</td>\n",
       "      <td>Misc</td>\n",
       "      <td>9.20</td>\n",
       "      <td>77.0</td>\n",
       "      <td>7.9</td>\n",
       "      <td>E</td>\n",
       "      <td>20.14</td>\n",
       "    </tr>\n",
       "  </tbody>\n",
       "</table>\n",
       "</div>"
      ],
      "text/plain": [
       "   index                                          name platform  \\\n",
       "0      0                                    Wii Sports      Wii   \n",
       "1      2                                Mario Kart Wii      Wii   \n",
       "2     10                                    Nintendogs       DS   \n",
       "3      3                             Wii Sports Resort      Wii   \n",
       "4     19  Brain Age: Train Your Brain in Minutes a Day       DS   \n",
       "\n",
       "   year_of_release       genre  eu_sales  critic_score  user_score   rating  \\\n",
       "0             2006      Sports     28.96          76.0         8.0        E   \n",
       "1             2008      Racing     12.76          82.0         8.3        E   \n",
       "2             2005  Simulation     10.95           NaN         NaN  unknown   \n",
       "3             2009      Sports     10.93          80.0         8.0        E   \n",
       "4             2005        Misc      9.20          77.0         7.9        E   \n",
       "\n",
       "   total_sales  \n",
       "0        82.54  \n",
       "1        35.52  \n",
       "2        24.67  \n",
       "3        32.77  \n",
       "4        20.14  "
      ]
     },
     "execution_count": 25,
     "metadata": {},
     "output_type": "execute_result"
    }
   ],
   "source": [
    "#perfil de usuario para ventas en Europa\n",
    "\n",
    "#ordenar el dataframe por las ventas en Europa, en orden descendente\n",
    "eu_profile = games.sort_values('eu_sales', ascending=False)\n",
    "\n",
    "#seleccionando las mejores ventas entre el año 2002 y 2016\n",
    "eu_profile_games = eu_profile[(eu_profile['year_of_release'] >= 2002) & (eu_profile['year_of_release'] <=2016)]\n",
    "\n",
    "#estableciendo el top 5 de las plataformas que vendieron mas en Europa \n",
    "eu_top_games = eu_profile_games[['name', 'platform', 'year_of_release', 'genre', 'eu_sales', 'critic_score', 'user_score', 'rating', 'total_sales']].reset_index()\n",
    "\n",
    "eu_top_games.head()"
   ]
  },
  {
   "cell_type": "code",
   "execution_count": 26,
   "metadata": {},
   "outputs": [
    {
     "data": {
      "text/html": [
       "<div>\n",
       "<style scoped>\n",
       "    .dataframe tbody tr th:only-of-type {\n",
       "        vertical-align: middle;\n",
       "    }\n",
       "\n",
       "    .dataframe tbody tr th {\n",
       "        vertical-align: top;\n",
       "    }\n",
       "\n",
       "    .dataframe thead th {\n",
       "        text-align: right;\n",
       "    }\n",
       "</style>\n",
       "<table border=\"1\" class=\"dataframe\">\n",
       "  <thead>\n",
       "    <tr style=\"text-align: right;\">\n",
       "      <th></th>\n",
       "      <th>index</th>\n",
       "      <th>name</th>\n",
       "      <th>platform</th>\n",
       "      <th>year_of_release</th>\n",
       "      <th>genre</th>\n",
       "      <th>na_sales</th>\n",
       "      <th>critic_score</th>\n",
       "      <th>user_score</th>\n",
       "      <th>rating</th>\n",
       "      <th>total_sales</th>\n",
       "    </tr>\n",
       "  </thead>\n",
       "  <tbody>\n",
       "    <tr>\n",
       "      <th>0</th>\n",
       "      <td>0</td>\n",
       "      <td>Wii Sports</td>\n",
       "      <td>Wii</td>\n",
       "      <td>2006</td>\n",
       "      <td>Sports</td>\n",
       "      <td>41.36</td>\n",
       "      <td>76.0</td>\n",
       "      <td>8.0</td>\n",
       "      <td>E</td>\n",
       "      <td>82.54</td>\n",
       "    </tr>\n",
       "    <tr>\n",
       "      <th>1</th>\n",
       "      <td>2</td>\n",
       "      <td>Mario Kart Wii</td>\n",
       "      <td>Wii</td>\n",
       "      <td>2008</td>\n",
       "      <td>Racing</td>\n",
       "      <td>15.68</td>\n",
       "      <td>82.0</td>\n",
       "      <td>8.3</td>\n",
       "      <td>E</td>\n",
       "      <td>35.52</td>\n",
       "    </tr>\n",
       "    <tr>\n",
       "      <th>2</th>\n",
       "      <td>3</td>\n",
       "      <td>Wii Sports Resort</td>\n",
       "      <td>Wii</td>\n",
       "      <td>2009</td>\n",
       "      <td>Sports</td>\n",
       "      <td>15.61</td>\n",
       "      <td>80.0</td>\n",
       "      <td>8.0</td>\n",
       "      <td>E</td>\n",
       "      <td>32.77</td>\n",
       "    </tr>\n",
       "    <tr>\n",
       "      <th>3</th>\n",
       "      <td>14</td>\n",
       "      <td>Kinect Adventures!</td>\n",
       "      <td>X360</td>\n",
       "      <td>2010</td>\n",
       "      <td>Misc</td>\n",
       "      <td>15.00</td>\n",
       "      <td>61.0</td>\n",
       "      <td>6.3</td>\n",
       "      <td>E</td>\n",
       "      <td>21.82</td>\n",
       "    </tr>\n",
       "    <tr>\n",
       "      <th>4</th>\n",
       "      <td>8</td>\n",
       "      <td>New Super Mario Bros. Wii</td>\n",
       "      <td>Wii</td>\n",
       "      <td>2009</td>\n",
       "      <td>Platform</td>\n",
       "      <td>14.44</td>\n",
       "      <td>87.0</td>\n",
       "      <td>8.4</td>\n",
       "      <td>E</td>\n",
       "      <td>28.32</td>\n",
       "    </tr>\n",
       "  </tbody>\n",
       "</table>\n",
       "</div>"
      ],
      "text/plain": [
       "   index                       name platform  year_of_release     genre  \\\n",
       "0      0                 Wii Sports      Wii             2006    Sports   \n",
       "1      2             Mario Kart Wii      Wii             2008    Racing   \n",
       "2      3          Wii Sports Resort      Wii             2009    Sports   \n",
       "3     14         Kinect Adventures!     X360             2010      Misc   \n",
       "4      8  New Super Mario Bros. Wii      Wii             2009  Platform   \n",
       "\n",
       "   na_sales  critic_score  user_score rating  total_sales  \n",
       "0     41.36          76.0         8.0      E        82.54  \n",
       "1     15.68          82.0         8.3      E        35.52  \n",
       "2     15.61          80.0         8.0      E        32.77  \n",
       "3     15.00          61.0         6.3      E        21.82  \n",
       "4     14.44          87.0         8.4      E        28.32  "
      ]
     },
     "execution_count": 26,
     "metadata": {},
     "output_type": "execute_result"
    }
   ],
   "source": [
    "#perfil de usuario para ventas en Norteamerica\n",
    "\n",
    "#ordenar el dataframe por las ventas en Na, en orden descendente\n",
    "na_profile = games.sort_values('na_sales', ascending=False)\n",
    "\n",
    "#seleccionando las mejores ventas entre el año 2002 y 2016\n",
    "na_profile_games = na_profile[(na_profile['year_of_release'] >= 2002) & (na_profile['year_of_release'] <=2016)]\n",
    "\n",
    "#estableciendo el top 5 de las plataformas que vendieron mas en NA\n",
    "na_top_games = na_profile_games[['name', 'platform', 'year_of_release', 'genre', 'na_sales', 'critic_score', 'user_score', 'rating', 'total_sales']].reset_index()\n",
    "\n",
    "na_top_games.head()"
   ]
  },
  {
   "cell_type": "markdown",
   "metadata": {},
   "source": [
    "He creado un perfil de usuario para las cinco plataformas que tuvieron mejores ventas en el período comprendido del año 2002 hasta 2016, para las regiones de Japón, Europa y Norteamérica. \n",
    "\n",
    "Al analizar la información arrojada por cada región, puedo notar que las cuotas de mercado varían significativamente, en el siguiente orden: Norteamérica registra las mayores ventas; le sigue Europa con ventas un poco más bajas; finalmente, Japón muestra un cambio más significativo, registrando las ventas más bajas de las tres regiones. \n",
    "\n",
    "\n",
    "En cuanto a los géneros de videojuegos preferidos en cada región tenemos que Europa prefiere juegos de deportes, carreras, simulación y Misc; un poco parecido a Norteamérica, dondé prefieren juegos de deportes, carreras, Misc y plataforma. Marcando un poco de contraste, Japón prefiere juegos de plataforma, role-playing y simulación. (Todas las regiones muestran su preferencia de géneros de videojuegos en el mismo orden en que se escribieron los géneros)."
   ]
  },
  {
   "cell_type": "markdown",
   "metadata": {},
   "source": [
    "#### Correlación entre las reseñas de los profesionales y las ventas de cada región"
   ]
  },
  {
   "cell_type": "code",
   "execution_count": 27,
   "metadata": {},
   "outputs": [],
   "source": [
    "#calcular el coeficiente de correlacion entre las ventas de Japón y las reseñas de los profesionales\n",
    "jp_critic_corr = jp_top_games['critic_score'].corr(jp_top_games['jp_sales'])"
   ]
  },
  {
   "cell_type": "code",
   "execution_count": 28,
   "metadata": {},
   "outputs": [],
   "source": [
    "#calcular el coeficiente de correlacion entre las ventas de Europa y las reseñas de los profesionales\n",
    "eu_critic_corr = eu_top_games['critic_score'].corr(eu_top_games['eu_sales'])"
   ]
  },
  {
   "cell_type": "code",
   "execution_count": 29,
   "metadata": {},
   "outputs": [],
   "source": [
    "#calcular el coeficiente de correlacion entre las ventas de Norteamérica y las reseñas de los profesionales\n",
    "na_critic_corr = na_top_games['critic_score'].corr(na_top_games['na_sales'])"
   ]
  },
  {
   "cell_type": "code",
   "execution_count": 30,
   "metadata": {},
   "outputs": [
    {
     "name": "stdout",
     "output_type": "stream",
     "text": [
      "El coeficiente de correlación en Japón es: 0.13057727442249756\n",
      "\n",
      "El coeficiente de correlación en Europa es: 0.21344706478944334\n",
      "\n",
      "El coeficiente de correlación en Norteamérica es: 0.22694430087702194\n"
     ]
    }
   ],
   "source": [
    "print(f'El coeficiente de correlación en Japón es:', jp_critic_corr)\n",
    "print()\n",
    "print(f'El coeficiente de correlación en Europa es:', eu_critic_corr)\n",
    "print()\n",
    "print(f'El coeficiente de correlación en Norteamérica es:', na_critic_corr)"
   ]
  },
  {
   "cell_type": "markdown",
   "metadata": {},
   "source": [
    "Al calcular el coeficiente de correlación entre las reseñas de los profesionales y las ventas en cada una de las regiones (Japón, Europa y Norteamérica), me doy cuenta de que el nivel es muy bajo como para pensar que las reseñas influyen en las ventas. "
   ]
  },
  {
   "cell_type": "markdown",
   "metadata": {},
   "source": [
    "## 5. Prueba de hipótesis\n",
    "\n",
    "A continuación le daré respuestas a dos hipótesis:"
   ]
  },
  {
   "cell_type": "markdown",
   "metadata": {},
   "source": [
    "\n",
    "#### Hipótesis 1:\n",
    "\n",
    "- Las calificaciones promedio de los usuarios para las plataformas Xbox One y PC son las mismas.\n"
   ]
  },
  {
   "cell_type": "code",
   "execution_count": null,
   "metadata": {},
   "outputs": [],
   "source": [
    "#calcular la calificacion promedio de usuarios de xbox one\n",
    "xone_user_score = games[(games['platform'] == 'XOne')]['user_score']\n",
    "\n",
    "#calcular la calificacion promedio de usuarios de PC\n",
    "pc_user_score = games[(games['platform'] == 'PC')]['user_score']\n",
    "\n",
    "#eliminar los valores ausentes\n",
    "xone_user_score.dropna(inplace=True)\n",
    "pc_user_score.dropna(inplace=True)"
   ]
  },
  {
   "cell_type": "markdown",
   "metadata": {},
   "source": [
    "- Hipótesis nula: las calificaciones promedio son las mismas.\n",
    "\n",
    "- Hipótesis alternativa: las calificaciones promedio son distintas.\n",
    "\n",
    "Nivel de significancia: 0.1%."
   ]
  },
  {
   "cell_type": "code",
   "execution_count": 32,
   "metadata": {},
   "outputs": [
    {
     "name": "stdout",
     "output_type": "stream",
     "text": [
      "valor p: 4.935072360183574e-06\n",
      "Rechazamos la hipótesis nula\n"
     ]
    }
   ],
   "source": [
    "#prueba de hipótesis 1\n",
    "\n",
    "alpha= 0.01\n",
    "\n",
    "#si el valor p es menor que alpha, rechazamos la hipótesis\n",
    "\n",
    "results = st.ttest_ind(xone_user_score, pc_user_score, equal_var=False)\n",
    "\n",
    "print('valor p:', results.pvalue)\n",
    "\n",
    "if results.pvalue < alpha:\n",
    "    print('Rechazamos la hipótesis nula')\n",
    "else:\n",
    "    print('No podemos rechazar la hipótesis nula')\n"
   ]
  },
  {
   "cell_type": "markdown",
   "metadata": {},
   "source": [
    "#### Hipótesis 2:\n",
    "\n",
    "- Las calificaciones promedio de los usuarios para los géneros de Acción y Deportes son diferentes. "
   ]
  },
  {
   "cell_type": "code",
   "execution_count": null,
   "metadata": {},
   "outputs": [],
   "source": [
    "#calcular la calificacion promedio de usuarios de géneros de acción\n",
    "action_user_score = games[(games['genre'] == 'Action')]['user_score']\n",
    "\n",
    "#calcular la calificacion promedio de usuarios de géneros de deporte\n",
    "sports_user_score = games[(games['genre'] == 'Sports')]['user_score']\n",
    "\n",
    "#eliminar los valores ausentes\n",
    "action_user_score.dropna(inplace=True)\n",
    "sports_user_score.dropna(inplace=True)\n"
   ]
  },
  {
   "cell_type": "markdown",
   "metadata": {},
   "source": [
    "- Hipótesis nula: las calificaciones promedio son iguales.\n",
    "\n",
    "- Hipótesis alternativa: las calificaciones promedio son diferentes.\n",
    "\n",
    "Nivel de significancia: 0.1%.\n"
   ]
  },
  {
   "cell_type": "code",
   "execution_count": 34,
   "metadata": {},
   "outputs": [
    {
     "name": "stdout",
     "output_type": "stream",
     "text": [
      "valor p: 0.11483818791498286\n",
      "No podemos rechazar la hipótesis nula\n"
     ]
    }
   ],
   "source": [
    "#prueba de hipótesis 2\n",
    "\n",
    "alpha= 0.01\n",
    "\n",
    "#si el valor p es menor que alpha, rechazamos la hipótesis\n",
    "\n",
    "results = st.ttest_ind(action_user_score, sports_user_score, equal_var=False)\n",
    "\n",
    "print('valor p:', results.pvalue)\n",
    "\n",
    "if results.pvalue < alpha:\n",
    "    print('Rechazamos la hipótesis nula')\n",
    "else:\n",
    "    print('No podemos rechazar la hipótesis nula')"
   ]
  },
  {
   "cell_type": "markdown",
   "metadata": {},
   "source": [
    "#### Respuestas de las hipótesis planteadas."
   ]
  },
  {
   "cell_type": "markdown",
   "metadata": {},
   "source": [
    "#### Hipótesis 1"
   ]
  },
  {
   "cell_type": "markdown",
   "metadata": {},
   "source": [
    "En la primera hipótesis se planteó que las calificaciones promedio de los usuarios para las plataformas Xbox One y PC son las mismas.\n",
    "Para poder darle respuesta, formulé una hipótesis nula que plantea que las calificaciones son iguales y una alternativa que plantea que las mismas son distintas. \n",
    "\n",
    "En mi prueba tuve como resultado el rechazo de mi hipótesis nula, por lo tanto, se podría determinar que, en efecto, las calificaciones promedio de los usuarios de ambas plataformas son distintas."
   ]
  },
  {
   "cell_type": "markdown",
   "metadata": {},
   "source": [
    "#### Hipótesis 2"
   ]
  },
  {
   "cell_type": "markdown",
   "metadata": {},
   "source": [
    "En el caso de la segunda hipótesis, se planteó que las calificaciones promedio de los usuarios para los géneros de Acción y Deportes son diferentes.\n",
    "En esta oportunidad, plateé una hipótesis nula que dice que las calificaciones de los usuarios son las mismas, y una hipótesis alternativa que establece que tales calificaciones son diferentes.\n",
    "\n",
    "En mi segunda prueba, obtuve como resultado el rechazo de mi hipótesis alternativa. Por ende, se podría establecer que las calificaciones promedio de los usuarios en ambos géneros son iguales.\n"
   ]
  }
 ],
 "metadata": {
  "kernelspec": {
   "display_name": "venv_ESRB",
   "language": "python",
   "name": "python3"
  },
  "language_info": {
   "codemirror_mode": {
    "name": "ipython",
    "version": 3
   },
   "file_extension": ".py",
   "mimetype": "text/x-python",
   "name": "python",
   "nbconvert_exporter": "python",
   "pygments_lexer": "ipython3",
   "version": "3.11.5"
  }
 },
 "nbformat": 4,
 "nbformat_minor": 2
}
